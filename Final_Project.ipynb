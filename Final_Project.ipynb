{
 "cells": [
  {
   "cell_type": "code",
   "execution_count": null,
   "metadata": {},
   "outputs": [],
   "source": [
    "    "
   ]
  },
  {
   "cell_type": "code",
   "execution_count": 39,
   "metadata": {},
   "outputs": [],
   "source": [
    "class Expectations:\n",
    "    def __init__(self, manifestvars, latentvars, interceptload, slopeload):\n",
    "        #add the default information into the class\n",
    "        import sympy as sy\n",
    "        import networkx as nx\n",
    "        self.manifestvars = manifestvars\n",
    "        self.latentvars = latentvars\n",
    "        self.interceptload = interceptload\n",
    "        self.slopeload = slopeload\n",
    "    \n",
    "    def create_graph_from_data(self, adjlist):\n",
    "        # adjlist in the format of ['lvi mv1 mv2 mv3 mv4', 'lvs mv1 mv2 mv3 mv4', 'constant lvi lvs']\n",
    "        #parse the directed graph adjacency list\n",
    "        input_graph = nx.parse_adjlist(adjlist, create_using=nx.DiGraph())\n",
    "        # the next important part is add the factor loadings to the graph. \n",
    "        loading_index = 0\n",
    "        variable_index = 0\n",
    "        for latentvar in latentvars:\n",
    "            loading_index = 0\n",
    "            for node_i in input_graph.successors(latentvar):\n",
    "                if variable_index == 0 :\n",
    "                    input_graph[latentvar][node_i]['factor_loading'] = interceptload[loading_index]\n",
    "                    loading_index += 1\n",
    "                else:\n",
    "                    input_graph[latentvar][node_i]['factor_loading'] = slopeload[loading_index]\n",
    "                    loading_index += 1\n",
    "                variable_index += 1\n",
    "        \n",
    "            \n",
    "    def read_data_Outlist(self):#manifestvars, latentvars, interceptload, slopeload):\n",
    "        # Each variabe name should be in a separate str in a list\n",
    "        # e.g., [\"lvi\", \"lvs\"]\n",
    "        # manifest variables measured overtime should be in chronological order\n",
    "        # the input is the  \n",
    "        adjlist = []\n",
    "        # easier to call the minfest variables squares at this point\n",
    "        squares = \" \".join(manifestvars)\n",
    "        for variable in latentvars:\n",
    "            line = variable + \" \" + squares\n",
    "            adjlist.append(line)\n",
    "        constants = \"constant \" + \" \".join(latentvars)\n",
    "        adjlist.append(constants)\n",
    "        # output is the adjacency list to be used in the graph drawing\n",
    "        return adjlist\n",
    "    \n",
    "    def create_symbols(self):\n",
    "        # the function to create the symbolic alegbra symbols\n",
    "        # this will use a dictionary in which to store the sybmols that will be used\n",
    "        import sympy as sy\n",
    "        matrix_symbols = {}\n",
    "        for var in latentvars:\n",
    "            var_name = 'Var(%s)' % var\n",
    "            mew_name = 'Mean(%s)' % var\n",
    "            matrix_symbols.update( {'Variance of %s' %(var):sy.Symbol(var_name), 'Mean of %s' %(var):sy.Symbol(mew_name)} )\n",
    "        matrix_symbols.update( {'Error Variance' :sy.Symbol('Var(error)')})\n",
    "        cov_name = 'Cov(%s & %s)' %(latentvars[0], latentvars[1])\n",
    "        matrix_symbols.update( {'Covariance' :sy.Symbol(cov_name)})\n",
    "        # output is the dictionary that will be used by the matrix creation functions\n",
    "        return(matrix_symbols)\n",
    "        \n",
    "    def create_matrix_f(self, matrix_symbols):\n",
    "        import sympy as sy\n",
    "        # input are the lists of manifest variables and latent variables\n",
    "        # this function assumes that the user wants the means as well as the covariance matrix\n",
    "        manifestvar_mat = sy.eye(len(manifestvars) + 1)\n",
    "        latentvar_mat = sy.zeros(len(manifestvars) + 1, len(latentvars))\n",
    "        matrix_f = manifestvar_mat.col_insert((len(manifestvar_mat)-1), latentvar_mat)\n",
    "        \n",
    "        return matrix_f\n",
    "        \n",
    "    def create_matrix_a(self, matrix_symbols):\n",
    "        import sympy as sy\n",
    "        # this is the matrix that contains the information for the intercept and slope loadings\n",
    "        matrix_a = sy.zeros(len(manifestvars) + len(latentvars) + 1)\n",
    "        #zero_matrix\n",
    "        index = 0\n",
    "        for loading in enumerate(interceptload):\n",
    "            matrix_a[index, -2] = interceptload[index]\n",
    "            matrix_a[index, -1] = slopeload[index]\n",
    "            index += 1\n",
    "        matrix_a[-1, len(manifestvars)] = matrix_symbols.get('Mean of lvs')\n",
    "        matrix_a[-2, len(manifestvars)] = matrix_symbols.get('Mean of lvi')\n",
    "        \n",
    "        return matrix_a\n",
    "    \n",
    "    def create_matrix_s(self, matrix_symbols):\n",
    "        # the +1 in the first line is to account for the constant\n",
    "        # first create the zero matrix, then fill with the appropriate symbols\n",
    "        import sympy as sy\n",
    "        matrix_s = sy.zeros(len(manifestvars) + len(latentvars) + 1)\n",
    "        count_index = 0\n",
    "        for var in enumerate(manifestvars):\n",
    "            matrix_s[count_index, count_index] = matrix_symbols.get(\"Error Variance\")\n",
    "            count_index += 1\n",
    "        matrix_s[len(manifestvars), len(manifestvars)] = 1\n",
    "        matrix_s[-2, -2] = matrix_symbols.get(\"Variance of lvi\")\n",
    "        matrix_s[-1, -1] = matrix_symbols.get(\"Variance of lvs\")\n",
    "        matrix_s[-1, -2] = matrix_symbols.get(\"Covariance\")\n",
    "        matrix_s[-2, -1] = matrix_symbols.get(\"Covariance\")\n",
    "        \n",
    "        return matrix_s\n",
    "     \n",
    "    def calculate_expectations(matrix_f, matrix_a, matrix_s):\n",
    "        # this function will take the three matrices and calculate the expectations for the covariance matrix and expected means\n",
    "        import sympy as sy\n",
    "        iden = sy.eye(6)\n",
    "        k = (iden - matrix_a)**-1\n",
    "        matrix_expect = matrix_f * k * matrix_s * matrix_k.T * matrix_f.T\n",
    "        # the output is a matrix of \n",
    "        return matrix_expect"
   ]
  },
  {
   "cell_type": "code",
   "execution_count": 31,
   "metadata": {},
   "outputs": [],
   "source": [
    "latentvars = [\"lvi\", \"lvs\"]\n",
    "manifestvars = [\"mv1\", \"mv2\", \"mv3\", \"mv4\", \"mv5\", \"mv6\"]\n",
    "slopeload = [1,2,3,4,5,6]\n",
    "interceptload = [1,1,1,1]    "
   ]
  },
  {
   "cell_type": "code",
   "execution_count": 41,
   "metadata": {},
   "outputs": [],
   "source": [
    "h = Expectations(manifestvars, latentvars, interceptload, slopeload)"
   ]
  },
  {
   "cell_type": "code",
   "execution_count": 38,
   "metadata": {},
   "outputs": [
    {
     "data": {
      "text/plain": [
       "{'Variance of lvi': Var(lvi),\n",
       " 'Mean of lvi': Mean(lvi),\n",
       " 'Variance of lvs': Var(lvs),\n",
       " 'Mean of lvs': Mean(lvs),\n",
       " 'Error Variance': Var(error),\n",
       " 'Covariance': Cov(lvi & lvs)}"
      ]
     },
     "execution_count": 38,
     "metadata": {},
     "output_type": "execute_result"
    }
   ],
   "source": [
    "h.create_symbols()"
   ]
  },
  {
   "cell_type": "code",
   "execution_count": 43,
   "metadata": {},
   "outputs": [
    {
     "ename": "ShapeError",
     "evalue": "Matrix size mismatch: (6, 6) + (9, 9)",
     "output_type": "error",
     "traceback": [
      "\u001b[1;31m---------------------------------------------------------------------------\u001b[0m",
      "\u001b[1;31mShapeError\u001b[0m                                Traceback (most recent call last)",
      "\u001b[1;32m<ipython-input-43-f3b84738a6f7>\u001b[0m in \u001b[0;36m<module>\u001b[1;34m\u001b[0m\n\u001b[0;32m      4\u001b[0m \u001b[0ms\u001b[0m\u001b[1;33m=\u001b[0m\u001b[0mh\u001b[0m\u001b[1;33m.\u001b[0m\u001b[0mcreate_matrix_s\u001b[0m\u001b[1;33m(\u001b[0m\u001b[0mmatrixsym\u001b[0m\u001b[1;33m)\u001b[0m\u001b[1;33m\u001b[0m\u001b[1;33m\u001b[0m\u001b[0m\n\u001b[0;32m      5\u001b[0m \u001b[1;33m\u001b[0m\u001b[0m\n\u001b[1;32m----> 6\u001b[1;33m \u001b[0mExpectations\u001b[0m\u001b[1;33m.\u001b[0m\u001b[0mcalculate_expectations\u001b[0m\u001b[1;33m(\u001b[0m\u001b[0mf\u001b[0m\u001b[1;33m,\u001b[0m \u001b[0ma\u001b[0m\u001b[1;33m,\u001b[0m \u001b[0ms\u001b[0m\u001b[1;33m)\u001b[0m\u001b[1;33m\u001b[0m\u001b[1;33m\u001b[0m\u001b[0m\n\u001b[0m",
      "\u001b[1;32m<ipython-input-39-70a3d714d51f>\u001b[0m in \u001b[0;36mcalculate_expectations\u001b[1;34m(matrix_f, matrix_a, matrix_s)\u001b[0m\n\u001b[0;32m    105\u001b[0m         \u001b[1;32mimport\u001b[0m \u001b[0msympy\u001b[0m \u001b[1;32mas\u001b[0m \u001b[0msy\u001b[0m\u001b[1;33m\u001b[0m\u001b[1;33m\u001b[0m\u001b[0m\n\u001b[0;32m    106\u001b[0m         \u001b[0miden\u001b[0m \u001b[1;33m=\u001b[0m \u001b[0msy\u001b[0m\u001b[1;33m.\u001b[0m\u001b[0meye\u001b[0m\u001b[1;33m(\u001b[0m\u001b[1;36m6\u001b[0m\u001b[1;33m)\u001b[0m\u001b[1;33m\u001b[0m\u001b[1;33m\u001b[0m\u001b[0m\n\u001b[1;32m--> 107\u001b[1;33m         \u001b[0mk\u001b[0m \u001b[1;33m=\u001b[0m \u001b[1;33m(\u001b[0m\u001b[0miden\u001b[0m \u001b[1;33m-\u001b[0m \u001b[0mmatrix_a\u001b[0m\u001b[1;33m)\u001b[0m\u001b[1;33m**\u001b[0m\u001b[1;33m-\u001b[0m\u001b[1;36m1\u001b[0m\u001b[1;33m\u001b[0m\u001b[1;33m\u001b[0m\u001b[0m\n\u001b[0m\u001b[0;32m    108\u001b[0m         \u001b[0mmatrix_expect\u001b[0m \u001b[1;33m=\u001b[0m \u001b[0mmatrix_f\u001b[0m \u001b[1;33m*\u001b[0m \u001b[0mk\u001b[0m \u001b[1;33m*\u001b[0m \u001b[0mmatrix_s\u001b[0m \u001b[1;33m*\u001b[0m \u001b[0mmatrix_k\u001b[0m\u001b[1;33m.\u001b[0m\u001b[0mT\u001b[0m \u001b[1;33m*\u001b[0m \u001b[0mmatrix_f\u001b[0m\u001b[1;33m.\u001b[0m\u001b[0mT\u001b[0m\u001b[1;33m\u001b[0m\u001b[1;33m\u001b[0m\u001b[0m\n\u001b[0;32m    109\u001b[0m         \u001b[1;31m# the output is a matrix of\u001b[0m\u001b[1;33m\u001b[0m\u001b[1;33m\u001b[0m\u001b[1;33m\u001b[0m\u001b[0m\n",
      "\u001b[1;32mC:\\ProgramData\\Anaconda3\\lib\\site-packages\\sympy\\core\\decorators.py\u001b[0m in \u001b[0;36mbinary_op_wrapper\u001b[1;34m(self, other)\u001b[0m\n\u001b[0;32m    130\u001b[0m                     \u001b[1;32melse\u001b[0m\u001b[1;33m:\u001b[0m\u001b[1;33m\u001b[0m\u001b[1;33m\u001b[0m\u001b[0m\n\u001b[0;32m    131\u001b[0m                         \u001b[1;32mreturn\u001b[0m \u001b[0mf\u001b[0m\u001b[1;33m(\u001b[0m\u001b[0mself\u001b[0m\u001b[1;33m)\u001b[0m\u001b[1;33m\u001b[0m\u001b[1;33m\u001b[0m\u001b[0m\n\u001b[1;32m--> 132\u001b[1;33m             \u001b[1;32mreturn\u001b[0m \u001b[0mfunc\u001b[0m\u001b[1;33m(\u001b[0m\u001b[0mself\u001b[0m\u001b[1;33m,\u001b[0m \u001b[0mother\u001b[0m\u001b[1;33m)\u001b[0m\u001b[1;33m\u001b[0m\u001b[1;33m\u001b[0m\u001b[0m\n\u001b[0m\u001b[0;32m    133\u001b[0m         \u001b[1;32mreturn\u001b[0m \u001b[0mbinary_op_wrapper\u001b[0m\u001b[1;33m\u001b[0m\u001b[1;33m\u001b[0m\u001b[0m\n\u001b[0;32m    134\u001b[0m     \u001b[1;32mreturn\u001b[0m \u001b[0mpriority_decorator\u001b[0m\u001b[1;33m\u001b[0m\u001b[1;33m\u001b[0m\u001b[0m\n",
      "\u001b[1;32mC:\\ProgramData\\Anaconda3\\lib\\site-packages\\sympy\\matrices\\common.py\u001b[0m in \u001b[0;36m__sub__\u001b[1;34m(self, a)\u001b[0m\n\u001b[0;32m   2118\u001b[0m     \u001b[1;33m@\u001b[0m\u001b[0mcall_highest_priority\u001b[0m\u001b[1;33m(\u001b[0m\u001b[1;34m'__rsub__'\u001b[0m\u001b[1;33m)\u001b[0m\u001b[1;33m\u001b[0m\u001b[1;33m\u001b[0m\u001b[0m\n\u001b[0;32m   2119\u001b[0m     \u001b[1;32mdef\u001b[0m \u001b[0m__sub__\u001b[0m\u001b[1;33m(\u001b[0m\u001b[0mself\u001b[0m\u001b[1;33m,\u001b[0m \u001b[0ma\u001b[0m\u001b[1;33m)\u001b[0m\u001b[1;33m:\u001b[0m\u001b[1;33m\u001b[0m\u001b[1;33m\u001b[0m\u001b[0m\n\u001b[1;32m-> 2120\u001b[1;33m         \u001b[1;32mreturn\u001b[0m \u001b[0mself\u001b[0m \u001b[1;33m+\u001b[0m \u001b[1;33m(\u001b[0m\u001b[1;33m-\u001b[0m\u001b[0ma\u001b[0m\u001b[1;33m)\u001b[0m\u001b[1;33m\u001b[0m\u001b[1;33m\u001b[0m\u001b[0m\n\u001b[0m\u001b[0;32m   2121\u001b[0m \u001b[1;33m\u001b[0m\u001b[0m\n\u001b[0;32m   2122\u001b[0m     \u001b[1;33m@\u001b[0m\u001b[0mcall_highest_priority\u001b[0m\u001b[1;33m(\u001b[0m\u001b[1;34m'__rtruediv__'\u001b[0m\u001b[1;33m)\u001b[0m\u001b[1;33m\u001b[0m\u001b[1;33m\u001b[0m\u001b[0m\n",
      "\u001b[1;32mC:\\ProgramData\\Anaconda3\\lib\\site-packages\\sympy\\core\\decorators.py\u001b[0m in \u001b[0;36mbinary_op_wrapper\u001b[1;34m(self, other)\u001b[0m\n\u001b[0;32m    130\u001b[0m                     \u001b[1;32melse\u001b[0m\u001b[1;33m:\u001b[0m\u001b[1;33m\u001b[0m\u001b[1;33m\u001b[0m\u001b[0m\n\u001b[0;32m    131\u001b[0m                         \u001b[1;32mreturn\u001b[0m \u001b[0mf\u001b[0m\u001b[1;33m(\u001b[0m\u001b[0mself\u001b[0m\u001b[1;33m)\u001b[0m\u001b[1;33m\u001b[0m\u001b[1;33m\u001b[0m\u001b[0m\n\u001b[1;32m--> 132\u001b[1;33m             \u001b[1;32mreturn\u001b[0m \u001b[0mfunc\u001b[0m\u001b[1;33m(\u001b[0m\u001b[0mself\u001b[0m\u001b[1;33m,\u001b[0m \u001b[0mother\u001b[0m\u001b[1;33m)\u001b[0m\u001b[1;33m\u001b[0m\u001b[1;33m\u001b[0m\u001b[0m\n\u001b[0m\u001b[0;32m    133\u001b[0m         \u001b[1;32mreturn\u001b[0m \u001b[0mbinary_op_wrapper\u001b[0m\u001b[1;33m\u001b[0m\u001b[1;33m\u001b[0m\u001b[0m\n\u001b[0;32m    134\u001b[0m     \u001b[1;32mreturn\u001b[0m \u001b[0mpriority_decorator\u001b[0m\u001b[1;33m\u001b[0m\u001b[1;33m\u001b[0m\u001b[0m\n",
      "\u001b[1;32mC:\\ProgramData\\Anaconda3\\lib\\site-packages\\sympy\\matrices\\common.py\u001b[0m in \u001b[0;36m__add__\u001b[1;34m(self, other)\u001b[0m\n\u001b[0;32m   1961\u001b[0m             \u001b[1;32mif\u001b[0m \u001b[0mself\u001b[0m\u001b[1;33m.\u001b[0m\u001b[0mshape\u001b[0m \u001b[1;33m!=\u001b[0m \u001b[0mother\u001b[0m\u001b[1;33m.\u001b[0m\u001b[0mshape\u001b[0m\u001b[1;33m:\u001b[0m\u001b[1;33m\u001b[0m\u001b[1;33m\u001b[0m\u001b[0m\n\u001b[0;32m   1962\u001b[0m                 raise ShapeError(\"Matrix size mismatch: %s + %s\" % (\n\u001b[1;32m-> 1963\u001b[1;33m                     self.shape, other.shape))\n\u001b[0m\u001b[0;32m   1964\u001b[0m \u001b[1;33m\u001b[0m\u001b[0m\n\u001b[0;32m   1965\u001b[0m         \u001b[1;31m# honest sympy matrices defer to their class's routine\u001b[0m\u001b[1;33m\u001b[0m\u001b[1;33m\u001b[0m\u001b[1;33m\u001b[0m\u001b[0m\n",
      "\u001b[1;31mShapeError\u001b[0m: Matrix size mismatch: (6, 6) + (9, 9)"
     ]
    }
   ],
   "source": [
    "matrixsym = h.create_symbols()\n",
    "a=h.create_matrix_a(matrixsym)\n",
    "f=h.create_matrix_f(matrixsym)\n",
    "s=h.create_matrix_s(matrixsym)\n",
    "\n",
    "Expectations.calculate_expectations(f, a, s)"
   ]
  },
  {
   "cell_type": "code",
   "execution_count": null,
   "metadata": {},
   "outputs": [],
   "source": []
  }
 ],
 "metadata": {
  "kernelspec": {
   "display_name": "Python 3",
   "language": "python",
   "name": "python3"
  },
  "language_info": {
   "codemirror_mode": {
    "name": "ipython",
    "version": 3
   },
   "file_extension": ".py",
   "mimetype": "text/x-python",
   "name": "python",
   "nbconvert_exporter": "python",
   "pygments_lexer": "ipython3",
   "version": "3.7.1"
  }
 },
 "nbformat": 4,
 "nbformat_minor": 2
}
